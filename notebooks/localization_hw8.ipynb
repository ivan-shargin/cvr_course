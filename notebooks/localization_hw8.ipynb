{
 "cells": [
  {
   "cell_type": "markdown",
   "id": "acquired-accused",
   "metadata": {},
   "source": [
    "# Локализация. Упражнения"
   ]
  },
  {
   "cell_type": "markdown",
   "id": "electric-shannon",
   "metadata": {},
   "source": [
    "В этих упражнениях вам предлагается реализовать простые алгоритмы локализации роботов. На лекции, помимо фильтра частиц, были упомянуты методы триангуляции и альфа-бета фильтр. Давайте их реализуем: обе реализации должны быть сделаны в виде класса, у которого должен быть метод update. Метод update принимает на вход измеренения с камеры о положении ориентиров в сосбтвенной системе координат робота."
   ]
  },
  {
   "cell_type": "markdown",
   "id": "trained-funds",
   "metadata": {},
   "source": [
    "В качестве ориентиров будем использовать координаты стоек ворот. Для удобства будем пользоваться упрощенным вариантом, при котором ворота разных цветов. В словаре храняться положения стоек в глобальной системе координат (точка (0, 0) нахождится в центре поля)"
   ]
  },
  {
   "cell_type": "code",
   "execution_count": 79,
   "id": "artistic-holocaust",
   "metadata": {},
   "outputs": [],
   "source": [
    "landmarks = {\n",
    "    \"blue_posts\": [\n",
    "        [ -4.5, -1.0], [ -4.5, 1.0]\n",
    "    ],\n",
    "    \"yellow_posts\":[\n",
    "        [ 4.5, -1.0], [ 4.5, 1.0]\n",
    "    ]\n",
    "}"
   ]
  },
  {
   "cell_type": "markdown",
   "id": "gross-browse",
   "metadata": {},
   "source": [
    "Пример данных, которые могут поступать в модуль на одном шаге всей системы. Данные во втором словаре – это данные одометрии с собвственной информацией робота о перемещении за один шаг системы. Для проверки работы придумайте и запишите набор данных с такой же структурой. "
   ]
  },
  {
   "cell_type": "code",
   "execution_count": 80,
   "id": "freelance-clothing",
   "metadata": {},
   "outputs": [],
   "source": [
    "observations = {\"yellow_posts\":[[4.45, -0.99],[4.49, 1.09]], \"blue_posts\":[]}\n",
    "shift = {'shift_x':0.0, 'shift_y':0.01, 'shift_angle':-0.4}"
   ]
  },
  {
   "cell_type": "code",
   "execution_count": 81,
   "id": "a5081ada",
   "metadata": {},
   "outputs": [],
   "source": [
    "import sys\n",
    "import json\n",
    "import math\n",
    "import numpy as np\n",
    "import matplotlib.pyplot as plt\n",
    "\n",
    "sys.path.append(\"../localization/\")\n",
    "\n",
    "from robot import Robot\n",
    "from field import Field\n",
    "\n",
    "with open(\"../localization/landmarks.json\", \"r\") as f:\n",
    "            landmarks = json.loads(f.read())\n"
   ]
  },
  {
   "cell_type": "markdown",
   "id": "behind-mouth",
   "metadata": {},
   "source": [
    "### 1) Реализовать локализацию триангуляцией (3 балл)\n",
    "    "
   ]
  },
  {
   "cell_type": "code",
   "execution_count": 82,
   "id": "1f2b5194",
   "metadata": {},
   "outputs": [],
   "source": [
    "def find_coord(observations, landmarks):\n",
    "    if observations['blue_posts'] == []:\n",
    "        posts = 'yellow_posts'\n",
    "    else:\n",
    "        posts = 'blue_posts'\n",
    "        \n",
    "    obs = np.array(observations[posts])\n",
    "    lm = np.array(landmarks[posts])\n",
    "    lm1 = lm[0, :]\n",
    "    lm2 = lm[1, :]\n",
    "    r1 = np.array([obs[0, 0],\n",
    "                  obs[0, 1]])\n",
    "    r2 = np.array([obs[0, 0],\n",
    "                  obs[0, 1]])\n",
    "    dist_1 = np.linalg.norm(r1, ord=2)\n",
    "    dist_2 = np.linalg.norm(r2, ord=2)\n",
    "\n",
    "    alpha = np.square(dist_1) - np.square(dist_2) \n",
    "    alpha += np.square(lm2[0]) - np.square(lm1[0])\n",
    "    alpha += np.square(lm2[1] - lm1[1])\n",
    "    alpha /= 2 * (lm2[1] - lm1[1])\n",
    "    beta = (lm1[0] - lm2[0]) / (lm2[1] - lm1[1])\n",
    "\n",
    "    a = 1 + np.square(beta)\n",
    "    b = -2*lm1[0] + 2 * alpha * beta \n",
    "    c = np.square(lm1[0]) + np.square(alpha) - np.square(dist_1)\n",
    "    Hypoths_x = np.roots((a, b, c))\n",
    "    Hypoths_x = np.array([x.real for x in Hypoths_x])\n",
    "    Hypoths_y = lm1[1] + alpha + beta * Hypoths_x\n",
    "\n",
    "    if Hypoths_x[0] < lm1[0] and observations['blue_posts'] == []:\n",
    "        return np.array([Hypoths_x[0], Hypoths_y[0]])\n",
    "    else:\n",
    "        return np.array([Hypoths_x[1], Hypoths_y[1]])\n",
    "    \n",
    "    if Hypoths_x[0] > lm1[0] and observations['blue_posts'] != []:\n",
    "        return np.array([Hypoths_x[0], Hypoths_y[0]])\n",
    "    else:\n",
    "        return np.array([Hypoths_x[1], Hypoths_y[1]])\n",
    "\n",
    "def find_yaw(observations, landmarks, coord):\n",
    "    if observations['blue_posts'] == []:\n",
    "        posts = 'yellow_posts'\n",
    "    else:\n",
    "        posts = 'blue_posts'\n",
    "    obs = np.array(observations[posts])\n",
    "    lm = np.array(landmarks[posts])\n",
    "    lm1 = lm[0, :]    \n",
    "    r1 = np.array([obs[0, 0],\n",
    "                  obs[0, 1]])\n",
    "\n",
    "    cos = -(lm1[1] - coord[1]) * r1[1] - (lm1[0]- coord[0]) * r1[0]\n",
    "    cos /= np.square(r1[0]) + np.square(r1[1])\n",
    "\n",
    "    sin = (lm1[1] - coord[1]) * r1[0] - (lm1[0]- coord[0]) * r1[1]\n",
    "    sin /= np.square(r1[0]) + np.square(r1[1]) \n",
    "\n",
    "    hypoth = np.arccos(cos)\n",
    "    if sin >= 0:\n",
    "        return hypoth \n",
    "    else:\n",
    "        return -hypoth + 2*np.pi"
   ]
  },
  {
   "cell_type": "code",
   "execution_count": 83,
   "id": "funded-external",
   "metadata": {},
   "outputs": [],
   "source": [
    "class localization_triangulation:\n",
    "    \n",
    "    def __init__(self, myrobot, field, landmarks):\n",
    "        self.myrobot = myrobot\n",
    "        self.landmarks = landmarks\n",
    "        \n",
    "        with open('../localization/pf_constants.json', 'r') as constants:\n",
    "            constants = json.load(constants)\n",
    "\n",
    "        self.forward_noise = constants['noise']['forward_noise']\n",
    "        self.turn_noise = constants['noise']['turn_noise']\n",
    "        self.sense_noise = constants['noise']['sense_noise']\n",
    "        self.gauss_noise = constants['noise']['gauss_noise']\n",
    "        self.yaw_noise = constants['noise']['yaw_noise']\n",
    "\n",
    "        self.number_of_res = constants['consistency']['number_of_res']\n",
    "        self.consistency = constants['consistency']['consistency']\n",
    "        self.goodObsGain = constants['consistency']['goodObsGain']\n",
    "        self.badObsCost = constants['consistency']['badObsCost']\n",
    "        self.stepCost = constants['consistency']['stepCost']\n",
    "        self.dist_threshold = constants['consistency']['dist_threshold']\n",
    "        self.con_threshold = constants['consistency']['con_threshold']\n",
    "        self.spec_threshold = constants['consistency']['spec_threshold']\n",
    "    \n",
    "    def set_position(self, x, y, yaw):\n",
    "        self.myrobot.x, self.myrobot.y, self.myrobot.yaw = x, y, yaw\n",
    "    \n",
    "    def return_position(self):\n",
    "        return self.myrobot.x, self.myrobot.y, self.myrobot.yaw\n",
    "    \n",
    "    def update(self, observations): \n",
    "        coord = find_coord(observations, self.landmarks)\n",
    "        yaw = find_yaw(observations, self.landmarks, coord)\n",
    "        self.myrobot.x = coord[0]\n",
    "        self.myrobot.y = coord[1]\n",
    "        self.myrobot.yaw = yaw"
   ]
  },
  {
   "cell_type": "code",
   "execution_count": 84,
   "id": "b6b75a5e",
   "metadata": {},
   "outputs": [
    {
     "name": "stdout",
     "output_type": "stream",
     "text": [
      "(4.300000000000005, 0.0, 1.5707963267949017)\n"
     ]
    },
    {
     "data": {
      "image/png": "[encoded data removed]",
      "text/plain": [
       "<Figure size 432x648 with 1 Axes>"
      ]
     },
     "metadata": {
      "needs_background": "light"
     },
     "output_type": "display_data"
    }
   ],
   "source": [
    "loc = localization_triangulation(Robot(0.0, 0.0, 0.0), Field(\"../localization/parfield.json\"), landmarks)\n",
    "observations_2 = {\"yellow_posts\":[[-1, -0.2],[1, -0.2]], \"blue_posts\":[]}\n",
    "loc.update(observations_2)\n",
    "print(loc.return_position())\n",
    "visualization(loc, Field(\"../localization/parfield.json\"), with_alphabeta=False)"
   ]
  },
  {
   "cell_type": "code",
   "execution_count": 85,
   "id": "cfc2c87d",
   "metadata": {},
   "outputs": [
    {
     "name": "stdout",
     "output_type": "stream",
     "text": [
      "(-4.1999999999999975, 0.0, 4.7123889803846915)\n"
     ]
    },
    {
     "data": {
      "image/png": "[encoded data removed]",
      "text/plain": [
       "<Figure size 432x648 with 1 Axes>"
      ]
     },
     "metadata": {
      "needs_background": "light"
     },
     "output_type": "display_data"
    }
   ],
   "source": [
    "loc = localization_triangulation(Robot(0.0, 0.0, 0.0), Field(\"../localization/parfield.json\"), landmarks)\n",
    "observations_4 = {\"yellow_posts\":[], \"blue_posts\":[[1, -0.3], [-1, -0.3]]}\n",
    "loc.update(observations_4)\n",
    "print(loc.return_position())\n",
    "visualization(loc, Field(\"../localization/parfield.json\"), with_alphabeta=False)"
   ]
  },
  {
   "cell_type": "markdown",
   "id": "freelance-messaging",
   "metadata": {},
   "source": [
    "### 2) Дополнить предыдущий пункт до альфа-бета фильтра (5 балла)"
   ]
  },
  {
   "cell_type": "code",
   "execution_count": 86,
   "id": "cordless-messenger",
   "metadata": {},
   "outputs": [],
   "source": [
    "class localization_alphabeta:\n",
    "    def __init__(self, myrobot, field, landmarks, alpha, beta):\n",
    "        self.myrobot = myrobot\n",
    "        self.landmarks = landmarks\n",
    "        self.alpha = alpha\n",
    "        self.beta = beta\n",
    "        \n",
    "        with open('../localization/pf_constants.json', 'r') as constants:\n",
    "            constants = json.load(constants)\n",
    "\n",
    "        self.forward_noise = constants['noise']['forward_noise']\n",
    "        self.turn_noise = constants['noise']['turn_noise']\n",
    "        self.sense_noise = constants['noise']['sense_noise']\n",
    "        self.gauss_noise = constants['noise']['gauss_noise']\n",
    "        self.yaw_noise = constants['noise']['yaw_noise']\n",
    "\n",
    "        self.number_of_res = constants['consistency']['number_of_res']\n",
    "        self.consistency = constants['consistency']['consistency']\n",
    "        self.goodObsGain = constants['consistency']['goodObsGain']\n",
    "        self.badObsCost = constants['consistency']['badObsCost']\n",
    "        self.stepCost = constants['consistency']['stepCost']\n",
    "        self.dist_threshold = constants['consistency']['dist_threshold']\n",
    "        self.con_threshold = constants['consistency']['con_threshold']\n",
    "        self.spec_threshold = constants['consistency']['spec_threshold']\n",
    "    \n",
    "    def set_position(self, x, y, yaw):\n",
    "        self.myrobot.x, self.myrobot.y, self.myrobot.yaw = x, y, yaw\n",
    "    \n",
    "    def return_position(self):\n",
    "        return self.myrobot.x, self.myrobot.y, self.myrobot.yaw\n",
    "    \n",
    "    \n",
    "    def update(self, observations, shift):\n",
    "        self.obs_coord = find_coord(observations, self.landmarks)\n",
    "        self.obs_yaw = find_yaw(observations, self.landmarks, self.obs_coord)\n",
    "        \n",
    "        self.odometry_x = self.myrobot.x + shift[\"shift_x\"]\n",
    "        self.odometry_y = self.myrobot.y + shift[\"shift_y\"]\n",
    "        self.odometry_yaw = self.myrobot.yaw + shift[\"shift_angle\"]\n",
    "        \n",
    "        self.myrobot.x = alpha * self.odometry_x + beta * self.obs_coord[0]\n",
    "        self.myrobot.y = alpha * self.odometry_y + beta * self.obs_coord[1]\n",
    "        self.myrobot.yaw = alpha * self.odometry_yaw + beta * self.obs_yaw\n",
    "#         if (self.myrobot.yaw < 0):\n",
    "#             self.myrobot.yaw += 2*np.pi"
   ]
  },
  {
   "cell_type": "code",
   "execution_count": 87,
   "id": "3564271c",
   "metadata": {},
   "outputs": [
    {
     "name": "stdout",
     "output_type": "stream",
     "text": [
      "(2.6500000000000026, -0.5, 0.0003981633974508014)\n"
     ]
    },
    {
     "data": {
      "image/png": "[encoded data removed]",
      "text/plain": [
       "<Figure size 432x648 with 1 Axes>"
      ]
     },
     "metadata": {
      "needs_background": "light"
     },
     "output_type": "display_data"
    }
   ],
   "source": [
    "alpha = 0.5\n",
    "beta = 0.5\n",
    "loc = localization_alphabeta(Robot(0.0, 0.0, 0.0), Field(\"../localization/parfield.json\"), landmarks, alpha, beta)\n",
    "observations_3 = {\"yellow_posts\":[[-1, -0.2],[1, -0.2]], \"blue_posts\":[]}\n",
    "shift_3 = {'shift_x':1, 'shift_y':-1, 'shift_angle':-1.57}\n",
    "loc.update(observations_3, shift_3)\n",
    "print(loc.return_position())\n",
    "visualization(loc, Field(\"../localization/parfield.json\"), with_alphabeta=True)"
   ]
  },
  {
   "cell_type": "markdown",
   "id": "vanilla-documentary",
   "metadata": {},
   "source": [
    "### 3) *Дополнительно* Добавьте визуализацию вида сверху  (2 балла)"
   ]
  },
  {
   "cell_type": "markdown",
   "id": "polyphonic-extension",
   "metadata": {},
   "source": [
    "Например на OpenCV или Matplotlib, например так как было в семинаре, чтобы можно было удобно посмотреть на работу модуля.\n"
   ]
  },
  {
   "cell_type": "code",
   "execution_count": 88,
   "id": "systematic-prairie",
   "metadata": {},
   "outputs": [],
   "source": [
    "def visualization(loc, field, factor=7, with_alphabeta=True):\n",
    "    \n",
    "    plt.figure(\"Robot in the world\",figsize=(field.w_width, field.w_length))\n",
    "    if with_alphabeta:\n",
    "        plt.title('Alpha-beta, green for odometry, red for observations, purple for result')\n",
    "    else:\n",
    "        plt.title('Triangulation')\n",
    " \n",
    "    # draw coordinate grid for plotting\n",
    "    grid = [-field.w_width/2.0, field.w_width/2.0, -field.w_length/2.0, field.w_length/2.0]\n",
    "    ax = plt.axis(grid)\n",
    "    \n",
    "    landmarks = {\n",
    "    \"blue_posts\": [\n",
    "        [ -1.0, -4.5], [ 1.0, -4.5]\n",
    "    ],\n",
    "    \"yellow_posts\":[[ -1.0, 4.5], [1.0, 4.5]]}\n",
    "    \n",
    "    for el in field.field:\n",
    "        if el == 'circles':\n",
    "            for circle in field.field['circles']:\n",
    "                plot_circle = plt.Circle((circle[0], circle[1]), circle[2],linewidth=2, fill=False, edgecolor='#330000')\n",
    "                plt.gca().add_patch(plot_circle)\n",
    "        if el == 'lines' :     \n",
    "            for line in field.field['lines']:\n",
    "                plot_line = plt.Line2D(line[0], line[1], linewidth=2, linestyle=\"-\", color='#330000')\n",
    "                plt.gca().add_line(plot_line)\n",
    "        if el == 'rectangles' :     \n",
    "            for rectangle in field.field['rectangles']:\n",
    "                rect = plt.Rectangle(rectangle[0], rectangle[1], rectangle[2], linewidth=2, linestyle=\"-\", fill = False, edgecolor='#330000')\n",
    "                plt.gca().add_patch(rect)\n",
    "    \n",
    "    if with_alphabeta:\n",
    "        # odometry's location\n",
    "        circle = plt.Circle((loc.odometry_y, loc.odometry_x), 1./factor, facecolor=\"green\", edgecolor='green')\n",
    "        plt.gca().add_patch(circle)\n",
    "\n",
    "        # odometry's orientation\n",
    "        arrow = plt.Arrow(loc.odometry_y, loc.odometry_x, 3*math.sin(loc.odometry_yaw)/factor, \n",
    "                          3*math.cos(loc.odometry_yaw)/factor, width=1.0/factor, alpha=0.5, \n",
    "                          facecolor='#000000', edgecolor='#000000')\n",
    "        plt.gca().add_patch(arrow)\n",
    "\n",
    "\n",
    "        # location from observations\n",
    "        circle = plt.Circle((loc.obs_coord[1], loc.obs_coord[0]), 1./factor, facecolor=\"red\", edgecolor='red')\n",
    "        plt.gca().add_patch(circle)\n",
    "\n",
    "        # orientation from observations\n",
    "        arrow = plt.Arrow(loc.obs_coord[1], loc.obs_coord[0], 3*math.sin(loc.obs_yaw)/factor, \n",
    "                          3*math.cos(loc.obs_yaw)/factor, width=1.0/factor, alpha=0.5, \n",
    "                          facecolor='#000000', edgecolor='#000000')\n",
    "        plt.gca().add_patch(arrow)\n",
    "    \n",
    " \n",
    "    # robot's location\n",
    "    circle = plt.Circle((loc.myrobot.y, loc.myrobot.x), 1./factor, facecolor='#FF66E9', edgecolor='#FF66E9')\n",
    "    plt.gca().add_patch(circle)\n",
    " \n",
    "    # robot's orientation\n",
    "    arrow = plt.Arrow(loc.myrobot.y, loc.myrobot.x, 3*math.sin(loc.myrobot.yaw)/factor, \n",
    "                      3*math.cos(loc.myrobot.yaw)/factor, \n",
    "                      width=1.0/factor, alpha=0.5, facecolor='#000000', edgecolor='#000000')\n",
    "    plt.gca().add_patch(arrow) \n",
    "    \n",
    "    if with_alphabeta:\n",
    "        #plot line between alpha and beta\n",
    "        plt.plot([loc.odometry_y, loc.obs_coord[1]], [loc.odometry_x, loc.obs_coord[0]])\n",
    "     \n",
    "    #fixed landmarks of known locations2\n",
    "   \n",
    "    for lm in landmarks:\n",
    "        for lms in landmarks[lm]:\n",
    "            if lm == \"yellow_posts\":\n",
    "                circle = plt.Circle(((lms[0], lms[1])), \n",
    "                                1./factor, facecolor = '#ffff00', edgecolor='#330000')\n",
    "                plt.gca().add_patch(circle)\n",
    "            else:\n",
    "                circle = plt.Circle(((lms[0], lms[1])), \n",
    "                                1./factor, facecolor =  '#060C73', edgecolor='#330000')\n",
    "                plt.gca().add_patch(circle)"
   ]
  },
  {
   "cell_type": "code",
   "execution_count": 89,
   "id": "2fa6c59c",
   "metadata": {},
   "outputs": [
    {
     "name": "stdout",
     "output_type": "stream",
     "text": [
      "(2.6500000000000026, -0.5, 0.0003981633974508014)\n"
     ]
    },
    {
     "data": {
      "image/png": "[encoded data removed]",
      "text/plain": [
       "<Figure size 432x648 with 1 Axes>"
      ]
     },
     "metadata": {
      "needs_background": "light"
     },
     "output_type": "display_data"
    }
   ],
   "source": [
    "alpha = 0.5\n",
    "beta = 0.5\n",
    "loc = localization_alphabeta(Robot(0.0, 0.0, 0.0), Field(\"../localization/parfield.json\"), landmarks, alpha, beta)\n",
    "observations_3 = {\"yellow_posts\":[[-1, -0.2],[1, -0.2]], \"blue_posts\":[]}\n",
    "shift_3 = {'shift_x':1, 'shift_y':-1, 'shift_angle':-1.57}\n",
    "loc.update(observations_3, shift_3)\n",
    "print(loc.return_position())\n",
    "visualization(loc, Field(\"../localization/parfield.json\"), with_alphabeta=True)"
   ]
  }
 ],
 "metadata": {
  "kernelspec": {
   "display_name": "Python 3",
   "language": "python",
   "name": "python3"
  },
  "language_info": {
   "codemirror_mode": {
    "name": "ipython",
    "version": 3
   },
   "file_extension": ".py",
   "mimetype": "text/x-python",
   "name": "python",
   "nbconvert_exporter": "python",
   "pygments_lexer": "ipython3",
   "version": "3.8.8"
  }
 },
 "nbformat": 4,
 "nbformat_minor": 5
}
