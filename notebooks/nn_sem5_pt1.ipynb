{
 "cells": [
  {
   "cell_type": "markdown",
   "metadata": {},
   "source": [
    "# Neural Network basics"
   ]
  },
  {
   "cell_type": "code",
   "execution_count": 1,
   "metadata": {
    "scrolled": true
   },
   "outputs": [],
   "source": [
    "import torch\n",
    "import numpy as np\n",
    "import matplotlib.pyplot as plt"
   ]
  },
  {
   "cell_type": "markdown",
   "metadata": {},
   "source": [
    "# Some work with tensors"
   ]
  },
  {
   "cell_type": "markdown",
   "metadata": {},
   "source": [
    "## Creating a tensor"
   ]
  },
  {
   "cell_type": "code",
   "execution_count": 2,
   "metadata": {},
   "outputs": [
    {
     "data": {
      "text/plain": [
       "tensor([[ 1., -1.],\n",
       "        [ 1., -1.]])"
      ]
     },
     "execution_count": 2,
     "metadata": {},
     "output_type": "execute_result"
    }
   ],
   "source": [
    "torch.tensor([[1., -1.], [1., -1.]])"
   ]
  },
  {
   "cell_type": "code",
   "execution_count": 3,
   "metadata": {},
   "outputs": [
    {
     "data": {
      "text/plain": [
       "tensor([[0., 0., 0., 0.],\n",
       "        [0., 0., 0., 0.]])"
      ]
     },
     "execution_count": 3,
     "metadata": {},
     "output_type": "execute_result"
    }
   ],
   "source": [
    "torch.zeros([2,4])"
   ]
  },
  {
   "cell_type": "markdown",
   "metadata": {},
   "source": [
    "## Specifying device and type"
   ]
  },
  {
   "cell_type": "code",
   "execution_count": 4,
   "metadata": {},
   "outputs": [
    {
     "data": {
      "text/plain": [
       "tensor([[1., 1., 1., 1.],\n",
       "        [1., 1., 1., 1.]], dtype=torch.float64)"
      ]
     },
     "execution_count": 4,
     "metadata": {},
     "output_type": "execute_result"
    }
   ],
   "source": [
    "#device = torch.device('cuda:0')\n",
    "\n",
    "device = torch.device('cpu')\n",
    "\n",
    "torch.ones([2, 4], dtype=torch.float64, device=device)"
   ]
  },
  {
   "cell_type": "markdown",
   "metadata": {},
   "source": [
    "# Operations with tensors"
   ]
  },
  {
   "cell_type": "code",
   "execution_count": 5,
   "metadata": {},
   "outputs": [],
   "source": [
    "x = torch.tensor([[1., 2.], [3., 4.]])\n",
    "y = torch.tensor([[1., -1.], [-1., 1.]])"
   ]
  },
  {
   "cell_type": "markdown",
   "metadata": {},
   "source": [
    "## Sum()"
   ]
  },
  {
   "cell_type": "code",
   "execution_count": 6,
   "metadata": {},
   "outputs": [
    {
     "name": "stdout",
     "output_type": "stream",
     "text": [
      "Sum of elements in x:\n",
      " tensor(10.)\n"
     ]
    }
   ],
   "source": [
    "print('Sum of elements in x:\\n', x.sum())"
   ]
  },
  {
   "cell_type": "markdown",
   "metadata": {},
   "source": [
    "## Item()"
   ]
  },
  {
   "cell_type": "code",
   "execution_count": 7,
   "metadata": {},
   "outputs": [
    {
     "name": "stdout",
     "output_type": "stream",
     "text": [
      "Sum of elements in y:\n",
      " 0.0\n"
     ]
    }
   ],
   "source": [
    "print('Sum of elements in y:\\n', y.sum().item())"
   ]
  },
  {
   "cell_type": "markdown",
   "metadata": {},
   "source": [
    "## torch.add()"
   ]
  },
  {
   "cell_type": "code",
   "execution_count": 8,
   "metadata": {},
   "outputs": [
    {
     "name": "stdout",
     "output_type": "stream",
     "text": [
      "Adding one tensor to another:\n",
      " tensor([[2., 1.],\n",
      "        [2., 5.]])\n"
     ]
    }
   ],
   "source": [
    "print('Adding one tensor to another:\\n', torch.add(x,y))"
   ]
  },
  {
   "cell_type": "markdown",
   "metadata": {},
   "source": [
    "## torch.mul()"
   ]
  },
  {
   "cell_type": "code",
   "execution_count": 9,
   "metadata": {},
   "outputs": [
    {
     "name": "stdout",
     "output_type": "stream",
     "text": [
      "Multiplying one tensor with the other one:\n",
      " tensor([[ 1., -2.],\n",
      "        [-3.,  4.]])\n"
     ]
    }
   ],
   "source": [
    "print('Multiplying one tensor with the other one:\\n', torch.mul(x,y))"
   ]
  },
  {
   "cell_type": "markdown",
   "metadata": {},
   "source": [
    "## t() (transpose) and torch.matmul()"
   ]
  },
  {
   "cell_type": "code",
   "execution_count": 13,
   "metadata": {
    "scrolled": true
   },
   "outputs": [
    {
     "name": "stdout",
     "output_type": "stream",
     "text": [
      "weights tensor([0.0933, 0.1991, 0.1415])\n",
      "input tensor([ 1., -1.,  1.])\n"
     ]
    },
    {
     "data": {
      "text/plain": [
       "tensor(0.0356)"
      ]
     },
     "execution_count": 13,
     "metadata": {},
     "output_type": "execute_result"
    }
   ],
   "source": [
    "input_shape = 3\n",
    "weights = torch.rand([input_shape])\n",
    "#weights = torch.tensor([1., -1., 1.])\n",
    "print('weights', weights)\n",
    "\n",
    "inp = torch.tensor([1., -1., 1.]).t()\n",
    "print('input', inp)\n",
    "\n",
    "torch.matmul(weights, inp)"
   ]
  },
  {
   "cell_type": "markdown",
   "metadata": {},
   "source": [
    "# torch.cat()"
   ]
  },
  {
   "cell_type": "code",
   "execution_count": 14,
   "metadata": {},
   "outputs": [
    {
     "data": {
      "text/plain": [
       "tensor([0.0933, 0.1991, 0.1415, 0.5000])"
      ]
     },
     "execution_count": 14,
     "metadata": {},
     "output_type": "execute_result"
    }
   ],
   "source": [
    "torch.cat((weights, torch.tensor([0.5])), 0)"
   ]
  },
  {
   "cell_type": "markdown",
   "metadata": {},
   "source": [
    "# Neuron model"
   ]
  },
  {
   "cell_type": "markdown",
   "metadata": {},
   "source": [
    "<img src=\"img/neuron.png\" width=1000>"
   ]
  },
  {
   "cell_type": "markdown",
   "metadata": {},
   "source": [
    "## Threshold_function\n"
   ]
  },
  {
   "cell_type": "markdown",
   "metadata": {},
   "source": [
    "$$\\begin{equation}\n",
    "        \\begin{matrix}\n",
    "        f(x) & =\n",
    "        & \\left\\{\n",
    "        \\begin{matrix}\n",
    "        1 & \\mbox{if } x \\geq threshold \\\\\n",
    "        0 & \\mbox{if } x \\lt threshold\n",
    "        \\end{matrix} \\right.\n",
    "        \\end{matrix}\n",
    "    \\end{equation}$$"
   ]
  },
  {
   "cell_type": "code",
   "execution_count": 15,
   "metadata": {},
   "outputs": [],
   "source": [
    "def threshold_function(x, threshold=0):\n",
    "    return 0 if x < threshold else 1"
   ]
  },
  {
   "cell_type": "code",
   "execution_count": 16,
   "metadata": {
    "scrolled": true
   },
   "outputs": [
    {
     "data": {
      "text/plain": [
       "[<matplotlib.lines.Line2D at 0x1ffa38a7e50>]"
      ]
     },
     "execution_count": 16,
     "metadata": {},
     "output_type": "execute_result"
    },
    {
     "data": {
      "image/png": "[encoded data removed]",
      "text/plain": [
       "<Figure size 432x288 with 1 Axes>"
      ]
     },
     "metadata": {
      "needs_background": "light"
     },
     "output_type": "display_data"
    }
   ],
   "source": [
    "inp = [x*0.01 - 0.5 for x in range(100)]\n",
    "plt.plot(inp, [threshold_function(x, threshold=0) for x in inp])"
   ]
  },
  {
   "cell_type": "markdown",
   "metadata": {},
   "source": [
    "## Neuron model"
   ]
  },
  {
   "cell_type": "code",
   "execution_count": 17,
   "metadata": {},
   "outputs": [],
   "source": [
    "class Neuron(object):\n",
    "    def __init__(self, input_shape=None, weights: torch.Tensor=None, activation_function=None, debug=False):\n",
    "        \n",
    "        assert input_shape is not None or weights is not None\n",
    "        if weights is not None:\n",
    "            self.weights = weights\n",
    "        else:\n",
    "            self.weights = torch.rand([input_shape, 1])\n",
    "            \n",
    "        self.activation_function = activation_function\n",
    "        self.debug = debug\n",
    "        \n",
    "    def agregate_signal(self, input_tensor):\n",
    "        if self.debug:\n",
    "            print('Input_tensor:\\n', input_tensor)\n",
    "            print(f'Multiplying:{self.weights} * {input_tensor}')\n",
    "        m = torch.mul(self.weights, input_tensor)\n",
    "        if self.debug:\n",
    "            print(f'Result:\\n{m}')\n",
    "        s = m.sum()\n",
    "        if self.debug:\n",
    "            print(f'Sum:\\n{s}')\n",
    "        output = s.item()\n",
    "        if self.debug:\n",
    "            print('Output without activation:\\n', output)\n",
    "        return output\n",
    "        \n",
    "    def activation(self, input_value):\n",
    "        if self.activation_function is not None:\n",
    "            output = self.activation_function(input_value)\n",
    "        else:\n",
    "            output = input_value\n",
    "        if self.debug:\n",
    "            print('Output after activation:\\n', output)\n",
    "        return output\n",
    "\n",
    "    def forward(self, input_tensor):\n",
    "        output = self.agregate_signal(input_tensor)\n",
    "        output = self.activation(output)\n",
    "        return output"
   ]
  },
  {
   "cell_type": "markdown",
   "metadata": {},
   "source": [
    "# Linearly separable classes"
   ]
  },
  {
   "cell_type": "markdown",
   "metadata": {},
   "source": [
    "## Dataset"
   ]
  },
  {
   "cell_type": "code",
   "execution_count": 18,
   "metadata": {
    "scrolled": false
   },
   "outputs": [
    {
     "data": {
      "image/png": "[encoded data removed]",
      "text/plain": [
       "<Figure size 432x288 with 1 Axes>"
      ]
     },
     "metadata": {
      "needs_background": "light"
     },
     "output_type": "display_data"
    }
   ],
   "source": [
    "N = 10\n",
    "\n",
    "C0_x0 = np.random.random(N)\n",
    "C0_x1 = (C0_x0 + [np.random.randint(10)/10 for i in range(N)] + 0.1)\n",
    "C0 = np.array([(C0_x0[i], C0_x1[i]) for i in range(len(C0_x0))])\n",
    "\n",
    "C1_x0 = np.random.random(N)\n",
    "C1_x1 = (C1_x0 - [np.random.randint(10)/10 for i in range(N)] - 0.1)\n",
    "C1 = np.array([(C1_x0[i], C1_x1[i]) for i in range(len(C1_x0))])\n",
    "\n",
    "# plotting\n",
    "plt.scatter(C0_x0, C0_x1, s=10, c='red')\n",
    "plt.scatter(C1_x0, C1_x1, s=10, c='blue')\n",
    "plt.xlim([-0.1,1.1])\n",
    "plt.ylim([-1.1,2.1])\n",
    "plt.grid(True)"
   ]
  },
  {
   "cell_type": "markdown",
   "metadata": {},
   "source": [
    "## Classification"
   ]
  },
  {
   "cell_type": "markdown",
   "metadata": {},
   "source": [
    "$$\\begin{equation}\n",
    "        \\begin{matrix}\n",
    "        \\left\\{\n",
    "        \\begin{matrix}\n",
    "        w_0 x_0 + w_1 x_1 \\geq 0 & \\mbox{C0 (red)} \\\\\n",
    "        w_0 x_0 + w_1 x_1 \\lt 0 & \\mbox{C1 (blue)}\n",
    "        \\end{matrix} \\right.\n",
    "        \\end{matrix}\n",
    "    \\end{equation}$$"
   ]
  },
  {
   "cell_type": "markdown",
   "metadata": {},
   "source": [
    "$$w_0 x_0 + w_1 x_1 = 0$$"
   ]
  },
  {
   "cell_type": "markdown",
   "metadata": {},
   "source": [
    "$$x_1 = - w_0 / w_1 * x_0$$"
   ]
  },
  {
   "cell_type": "markdown",
   "metadata": {},
   "source": [
    "$$ k = - w_0 / w_1$$"
   ]
  },
  {
   "cell_type": "code",
   "execution_count": 19,
   "metadata": {
    "scrolled": true
   },
   "outputs": [
    {
     "data": {
      "text/plain": [
       "<matplotlib.collections.PathCollection at 0x1ffa3a0faf0>"
      ]
     },
     "execution_count": 19,
     "metadata": {},
     "output_type": "execute_result"
    },
    {
     "data": {
      "image/png": "[encoded data removed]",
      "text/plain": [
       "<Figure size 432x288 with 1 Axes>"
      ]
     },
     "metadata": {
      "needs_background": "light"
     },
     "output_type": "display_data"
    }
   ],
   "source": [
    "w0 = -1\n",
    "w1 = 1\n",
    "\n",
    "wf_x0 = [-1, 0 , 1, 2]\n",
    "wf_x1 = [x0*(-w0/w1) for x0 in wf_x0]\n",
    "\n",
    "# plotting\n",
    "plt.plot(wf_x0, wf_x1)\n",
    "plt.grid(True)\n",
    "plt.xlim([-0.1,1.1])\n",
    "plt.ylim([-1.1,2.1])\n",
    "plt.scatter(C0_x0, C0_x1, s=10, c='red')\n",
    "plt.scatter(C1_x0, C1_x1, s=10, c='blue')"
   ]
  },
  {
   "cell_type": "code",
   "execution_count": 25,
   "metadata": {
    "scrolled": false
   },
   "outputs": [
    {
     "name": "stdout",
     "output_type": "stream",
     "text": [
      "Input_tensor:\n",
      " tensor([0, 1])\n",
      "Multiplying:tensor([-1,  1]) * tensor([0, 1])\n",
      "Result:\n",
      "tensor([0, 1])\n",
      "Sum:\n",
      "1\n",
      "Output without activation:\n",
      " 1\n",
      "Output after activation:\n",
      " 1\n",
      "Class C0 (Red)\n"
     ]
    },
    {
     "data": {
      "text/plain": [
       "(-1.1, 2.1)"
      ]
     },
     "execution_count": 25,
     "metadata": {},
     "output_type": "execute_result"
    },
    {
     "data": {
      "image/png": "[encoded data removed]",
      "text/plain": [
       "<Figure size 432x288 with 1 Axes>"
      ]
     },
     "metadata": {
      "needs_background": "light"
     },
     "output_type": "display_data"
    }
   ],
   "source": [
    "weights = torch.tensor([w0, w1])\n",
    "nn = Neuron(weights=weights, activation_function=threshold_function, debug=True)\n",
    "\n",
    "x = [0, 1]\n",
    "\n",
    "out = nn.forward(torch.tensor(x))\n",
    "\n",
    "# plotting\n",
    "if out >= 0.5:\n",
    "    print(\"Class C0 (Red)\")\n",
    "    plt.scatter(x[0], x[1], s=10, c='red')\n",
    "\n",
    "else:\n",
    "    print(\"Class C1 (Blue)\")\n",
    "    plt.scatter(x[0], x[1], s=10, c='blue')\n",
    "\n",
    "plt.plot(wf_x0, wf_x1)\n",
    "plt.grid(True)\n",
    "plt.xlim([-0.1,1.1])\n",
    "plt.ylim([-1.1,2.1])"
   ]
  },
  {
   "cell_type": "markdown",
   "metadata": {},
   "source": [
    "# Bias"
   ]
  },
  {
   "cell_type": "markdown",
   "metadata": {},
   "source": [
    "## Dataset"
   ]
  },
  {
   "cell_type": "code",
   "execution_count": 20,
   "metadata": {
    "scrolled": true
   },
   "outputs": [
    {
     "data": {
      "image/png": "[encoded data removed]",
      "text/plain": [
       "<Figure size 432x288 with 1 Axes>"
      ]
     },
     "metadata": {
      "needs_background": "light"
     },
     "output_type": "display_data"
    }
   ],
   "source": [
    "N = 10\n",
    "b = 2\n",
    "\n",
    "C0_x0 = np.random.random(N)\n",
    "C0_x1 = (C0_x0 + [np.random.randint(10)/10 for i in range(N)] + 0.1 + b)\n",
    "C0 = np.array([(C0_x0[i], C0_x1[i]) for i in range(len(C0_x0))])\n",
    "\n",
    "C1_x0 = np.random.random(N)\n",
    "C1_x1 = (C1_x0 - [np.random.randint(10)/10 for i in range(N)] - 0.1 + b)\n",
    "C1 = np.array([(C1_x0[i], C1_x1[i]) for i in range(len(C1_x0))])\n",
    "\n",
    "# plotting\n",
    "plt.scatter(C0_x0, C0_x1, s=10, c='red')\n",
    "plt.scatter(C1_x0, C1_x1, s=10, c='blue')\n",
    "plt.xlim([-0.1,1.1])\n",
    "plt.ylim([-1.1+b,2.1+b])\n",
    "plt.grid(True)"
   ]
  },
  {
   "cell_type": "code",
   "execution_count": 21,
   "metadata": {},
   "outputs": [
    {
     "data": {
      "text/plain": [
       "<matplotlib.collections.PathCollection at 0x1ffa3a420d0>"
      ]
     },
     "execution_count": 21,
     "metadata": {},
     "output_type": "execute_result"
    },
    {
     "data": {
      "image/png": "[encoded data removed]",
      "text/plain": [
       "<Figure size 432x288 with 1 Axes>"
      ]
     },
     "metadata": {
      "needs_background": "light"
     },
     "output_type": "display_data"
    }
   ],
   "source": [
    "w0 = -1\n",
    "w1 = 1\n",
    "\n",
    "wf_x0 = [-1, 0 , 1, 2]\n",
    "wf_x1 = [x0*(-w0/w1) for x0 in wf_x0]\n",
    "\n",
    "# plotting\n",
    "plt.plot(wf_x0, wf_x1)\n",
    "plt.grid(True)\n",
    "plt.xlim([-0.1,1.1])\n",
    "plt.ylim([-1.1,2.1+b])\n",
    "plt.scatter(C0_x0, C0_x1, s=10, c='red')\n",
    "plt.scatter(C1_x0, C1_x1, s=10, c='blue')"
   ]
  },
  {
   "cell_type": "markdown",
   "metadata": {},
   "source": [
    "$$\\begin{equation}\n",
    "        \\begin{matrix}\n",
    "        \\left\\{\n",
    "        \\begin{matrix}\n",
    "        w_0 x_0 + w_1 x_1 + bias \\geq 0 & \\mbox{C0 (red)} \\\\\n",
    "        w_0 x_0 + w_1 x_1 + bias \\lt 0 & \\mbox{C1 (blue)}\n",
    "        \\end{matrix} \\right.\n",
    "        \\end{matrix}\n",
    "    \\end{equation}$$"
   ]
  },
  {
   "cell_type": "markdown",
   "metadata": {},
   "source": [
    "$$w_0 x_0 + w_1 x_1 + bias = 0$$"
   ]
  },
  {
   "cell_type": "markdown",
   "metadata": {},
   "source": [
    "$$x_1 = - w_0 / w_1 * x_0 - bias/w_1 $$"
   ]
  },
  {
   "cell_type": "markdown",
   "metadata": {},
   "source": [
    "$$ k = - w_0 / w_1, b = - bias / w_1$$"
   ]
  },
  {
   "cell_type": "markdown",
   "metadata": {},
   "source": [
    "<img src=\"img/neuron_bias.png\" width=1000>"
   ]
  },
  {
   "cell_type": "code",
   "execution_count": 22,
   "metadata": {},
   "outputs": [],
   "source": [
    "class BiasNeuron(Neuron):\n",
    "    def __init__(self, input_shape=None, weights: torch.Tensor=None, bias=None, activation_function=None,\n",
    "                     debug=False):\n",
    "        super().__init__(input_shape, weights, activation_function, debug)\n",
    "        \n",
    "        if bias is not None:\n",
    "            self.bias = bias\n",
    "        \n",
    "\n",
    "    def forward(self, input_tensor):\n",
    "        output = self.agregate_signal(input_tensor)\n",
    "        \n",
    "        output = output + self.bias\n",
    "        \n",
    "        output = self.activation(output)\n",
    "        return output"
   ]
  },
  {
   "cell_type": "code",
   "execution_count": 24,
   "metadata": {},
   "outputs": [
    {
     "data": {
      "text/plain": [
       "<matplotlib.collections.PathCollection at 0x1ffa3981f40>"
      ]
     },
     "execution_count": 24,
     "metadata": {},
     "output_type": "execute_result"
    },
    {
     "data": {
      "image/png": "[encoded data removed]",
      "text/plain": [
       "<Figure size 432x288 with 1 Axes>"
      ]
     },
     "metadata": {
      "needs_background": "light"
     },
     "output_type": "display_data"
    }
   ],
   "source": [
    "w0 = -0.5\n",
    "w1 = 0.5\n",
    "b = 2.\n",
    "\n",
    "bias = -b * w1\n",
    "\n",
    "wf_x0 = [-1, 0 , 1, 2]\n",
    "wf_x1 = [x0*(-w0/w1) + b for x0 in wf_x0]\n",
    "\n",
    "# plotting\n",
    "plt.plot(wf_x0, wf_x1)\n",
    "plt.grid(True)\n",
    "plt.xlim([-0.1,1.1])\n",
    "plt.ylim([-1.1,2.1+b])\n",
    "plt.scatter(C0_x0, C0_x1, s=10, c='red')\n",
    "plt.scatter(C1_x0, C1_x1, s=10, c='blue')"
   ]
  },
  {
   "cell_type": "code",
   "execution_count": 25,
   "metadata": {},
   "outputs": [
    {
     "name": "stdout",
     "output_type": "stream",
     "text": [
      "Input_tensor:\n",
      " tensor([0, 1])\n",
      "Multiplying:tensor([-0.5000,  0.5000]) * tensor([0, 1])\n",
      "Result:\n",
      "tensor([-0.0000, 0.5000])\n",
      "Sum:\n",
      "0.5\n",
      "Output without activation:\n",
      " 0.5\n",
      "Output after activation:\n",
      " -0.5\n",
      "Class C1(Blue)\n"
     ]
    },
    {
     "data": {
      "text/plain": [
       "(-1.1, 4.1)"
      ]
     },
     "execution_count": 25,
     "metadata": {},
     "output_type": "execute_result"
    },
    {
     "data": {
      "image/png": "[encoded data removed]",
      "text/plain": [
       "<Figure size 432x288 with 1 Axes>"
      ]
     },
     "metadata": {
      "needs_background": "light"
     },
     "output_type": "display_data"
    }
   ],
   "source": [
    "weights = torch.tensor([w0, w1])\n",
    "nn = BiasNeuron(weights=weights, bias=bias, debug=True)\n",
    "\n",
    "x = [0, 1]\n",
    "\n",
    "out = nn.forward(torch.tensor(x))\n",
    "\n",
    "# plotting\n",
    "if out >= 0.5:\n",
    "    print(\"Class C0 (Red)\")\n",
    "    plt.scatter(x[0], x[1], s=10, c='red')\n",
    "\n",
    "else:\n",
    "    print(\"Class C1(Blue)\")\n",
    "    plt.scatter(x[0], x[1], s=10, c='blue')\n",
    "\n",
    "plt.plot(wf_x0, wf_x1)\n",
    "plt.grid(True)\n",
    "plt.xlim([-0.1,1.1])\n",
    "plt.ylim([-1.1,2.1+b])"
   ]
  },
  {
   "cell_type": "markdown",
   "metadata": {},
   "source": [
    "# XOR"
   ]
  },
  {
   "cell_type": "code",
   "execution_count": 26,
   "metadata": {},
   "outputs": [
    {
     "data": {
      "text/plain": [
       "(-0.1, 1.1)"
      ]
     },
     "execution_count": 26,
     "metadata": {},
     "output_type": "execute_result"
    },
    {
     "data": {
      "image/png": "[encoded data removed]",
      "text/plain": [
       "<Figure size 432x288 with 1 Axes>"
      ]
     },
     "metadata": {
      "needs_background": "light"
     },
     "output_type": "display_data"
    }
   ],
   "source": [
    "C0 = np.array([(0,1), (1,0)])\n",
    "\n",
    "C1 = np.array([(0,0), (1,1)])\n",
    "\n",
    "\n",
    "# plotting\n",
    "plt.scatter([C0[i][0] for i in range(len(C0))],\n",
    "            [C0[i][1] for i in range(len(C0))], s=10, c='red')\n",
    "plt.scatter([C1[i][0] for i in range(len(C1))],\n",
    "            [C1[i][1] for i in range(len(C1))], s=10, c='blue')\n",
    "#plt.plot(f)\n",
    "plt.grid(True)\n",
    "plt.xlim([-0.1,1.1])\n",
    "plt.ylim([-0.1,1.1])"
   ]
  },
  {
   "cell_type": "code",
   "execution_count": 27,
   "metadata": {},
   "outputs": [
    {
     "data": {
      "image/png": "[encoded data removed]",
      "text/plain": [
       "<Figure size 936x288 with 2 Axes>"
      ]
     },
     "metadata": {
      "needs_background": "light"
     },
     "output_type": "display_data"
    }
   ],
   "source": [
    "w0 = 1\n",
    "w1 = 1\n",
    "b = 1.5\n",
    "\n",
    "bias = -b * w1 \n",
    "\n",
    "C0 = np.array([(0,1), (1,0)])\n",
    "\n",
    "C1 = np.array([(0,0), (1,1)])\n",
    "\n",
    "# plotting\n",
    "fig, (ax1, ax2) = plt.subplots(1, 2)\n",
    "fig.set_figheight(4)\n",
    "fig.set_figwidth(13)\n",
    "\n",
    "wf_x0 = [-2, -1, 0 , 1, 2]\n",
    "wf_x1 = [x0*(-w0/w1) + 1.5 for x0 in wf_x0]\n",
    "ax1.plot(wf_x0, wf_x1)\n",
    "\n",
    "wf_x0 = [-2, -1, 0 , 1, 2]\n",
    "wf_x1 = [x0*(-w0/w1) + 0.5 for x0 in wf_x0]\n",
    "ax2.plot(wf_x0, wf_x1)\n",
    "\n",
    "for ax in [ax1, ax2]:\n",
    "    ax.scatter([C0[i][0] for i in range(len(C0))],\n",
    "                [C0[i][1] for i in range(len(C0))], s=10, c='red')\n",
    "    ax.scatter([C1[i][0] for i in range(len(C1))],\n",
    "                [C1[i][1] for i in range(len(C1))], s=10, c='blue')\n",
    "\n",
    "    ax.grid(True)\n",
    "    ax.set_xlim([-0.1,1.1])\n",
    "    ax.set_ylim([-0.1,1.1])"
   ]
  },
  {
   "cell_type": "code",
   "execution_count": 28,
   "metadata": {},
   "outputs": [],
   "source": [
    "class Perceptron:\n",
    "    def __init__(self):\n",
    "        self.first_layer = []\n",
    "        self.second_layer = []\n",
    "\n",
    "    def forward(self, input_tensor):\n",
    "        first_layer_output = []\n",
    "        \n",
    "        for neuron in self.first_layer:\n",
    "            output = neuron.forward(input_tensor)\n",
    "            first_layer_output.append(output)\n",
    "            \n",
    "        second_layer_input = torch.tensor(first_layer_output)\n",
    "        \n",
    "        for neuron in self.second_layer:\n",
    "            output = neuron.forward(second_layer_input)\n",
    "\n",
    "        return output"
   ]
  },
  {
   "cell_type": "code",
   "execution_count": 29,
   "metadata": {},
   "outputs": [
    {
     "data": {
      "text/plain": [
       "(-0.1, 1.1)"
      ]
     },
     "execution_count": 29,
     "metadata": {},
     "output_type": "execute_result"
    },
    {
     "data": {
      "image/png": "[encoded data removed]",
      "text/plain": [
       "<Figure size 432x288 with 1 Axes>"
      ]
     },
     "metadata": {
      "needs_background": "light"
     },
     "output_type": "display_data"
    }
   ],
   "source": [
    "w0 = 1\n",
    "w1 = 1\n",
    "b = 1.5\n",
    "\n",
    "bias = -b * w1\n",
    "\n",
    "wf_x0 = [-2, -1, 0 , 1, 2]\n",
    "wf_x1 = [x0*(-w0/w1) - bias/w1 for x0 in wf_x0]\n",
    "plt.plot(wf_x0, wf_x1)\n",
    "\n",
    "weights = torch.tensor([w0, w1])\n",
    "neuron = BiasNeuron(weights=weights, bias=bias, activation_function=threshold_function)\n",
    "\n",
    "X = [(i/100, i/100) for i in range(100)]\n",
    "for x in X:\n",
    "    out = neuron.forward(torch.tensor(x))\n",
    "\n",
    "    #print(\"out\", out)\n",
    "\n",
    "    if out >= 0.5:\n",
    "        #print(\"Class C0\")\n",
    "        plt.scatter(x[0], x[1], s=10, c='red')\n",
    "\n",
    "    else:\n",
    "        #print(\"Class C1\")\n",
    "        plt.scatter(x[0], x[1], s=10, c='blue')\n",
    "\n",
    "plt.grid(True)\n",
    "plt.xlim([-0.1,1.1])\n",
    "plt.ylim([-0.1,1.1])"
   ]
  },
  {
   "cell_type": "code",
   "execution_count": 30,
   "metadata": {},
   "outputs": [],
   "source": [
    "nn = Perceptron()\n",
    "\n",
    "w0 = 1\n",
    "w1 = 1\n",
    "b = 1.5\n",
    "\n",
    "bias = -b * w1 \n",
    "\n",
    "weights = torch.tensor([w0, w1])\n",
    "neuron = BiasNeuron(weights=weights, bias=bias, activation_function=threshold_function)\n",
    "\n",
    "nn.first_layer.append(neuron)\n",
    "\n",
    "w0 = 1\n",
    "w1 = 1\n",
    "b = 0.5\n",
    "\n",
    "bias = -b * w1 \n",
    "\n",
    "weights = torch.tensor([w0, w1])\n",
    "neuron = BiasNeuron(weights=weights, bias=bias, activation_function=threshold_function)\n",
    "\n",
    "nn.first_layer.append(neuron)\n",
    "\n",
    "w0 = -1\n",
    "w1 = 1\n",
    "b = 0.5\n",
    "\n",
    "bias = -b * w1\n",
    "\n",
    "weights = torch.tensor([w0, w1])\n",
    "neuron = BiasNeuron(weights=weights, bias=bias, activation_function=threshold_function)\n",
    "\n",
    "nn.second_layer.append(neuron)"
   ]
  },
  {
   "cell_type": "code",
   "execution_count": 31,
   "metadata": {},
   "outputs": [
    {
     "data": {
      "text/plain": [
       "(-0.1, 1.1)"
      ]
     },
     "execution_count": 31,
     "metadata": {},
     "output_type": "execute_result"
    },
    {
     "data": {
      "image/png": "[encoded data removed]",
      "text/plain": [
       "<Figure size 432x288 with 1 Axes>"
      ]
     },
     "metadata": {
      "needs_background": "light"
     },
     "output_type": "display_data"
    }
   ],
   "source": [
    "X = [(i/10, i/10) for i in range(11)]\n",
    "X.extend([(i/10, (10-i)/10) for i in range(11)])\n",
    "X.extend([(i/10, (10-i)/10 + 0.6) for i in range(11)])\n",
    "X.extend([(i/10, (10-i)/10 - 0.6) for i in range(11)])\n",
    "#X.extend([(i/10, i/10 + 0.2) for i in range(11)])\n",
    "#X.extend([(i/10, i/10 - 0.2) for i in range(11)])\n",
    "X.extend([(i/10, i/10 + 0.5) for i in range(11)])\n",
    "X.extend([(i/10, i/10 - 0.5) for i in range(11)])\n",
    "#print(X)\n",
    "for x in X:\n",
    "    out = nn.forward(torch.tensor(x))\n",
    "\n",
    "    #print(\"out\", out)\n",
    "\n",
    "    if out >= 0.5:\n",
    "        #print(\"Class C0\")\n",
    "        plt.scatter(x[0], x[1], s=10, c='red')\n",
    "\n",
    "    else:\n",
    "        #print(\"Class C1\")\n",
    "        plt.scatter(x[0], x[1], s=10, c='blue')\n",
    "\n",
    "wf_x0 = [-2, -1, 0 , 1, 2]\n",
    "wf_x1 = [-x0 + 0.5 for x0 in wf_x0]\n",
    "plt.plot(wf_x0, wf_x1, c='blue')\n",
    "\n",
    "wf_x0 = [-2, -1, 0 , 1, 2]\n",
    "wf_x1 = [-x0 + 1.5 for x0 in wf_x0]\n",
    "plt.plot(wf_x0, wf_x1, c='blue')\n",
    "\n",
    "plt.grid(True)\n",
    "plt.xlim([-0.1,1.1])\n",
    "plt.ylim([-0.1,1.1])"
   ]
  },
  {
   "cell_type": "code",
   "execution_count": null,
   "metadata": {},
   "outputs": [],
   "source": []
  }
 ],
 "metadata": {
  "kernelspec": {
   "display_name": "Python 3",
   "language": "python",
   "name": "python3"
  },
  "language_info": {
   "codemirror_mode": {
    "name": "ipython",
    "version": 3
   },
   "file_extension": ".py",
   "mimetype": "text/x-python",
   "name": "python",
   "nbconvert_exporter": "python",
   "pygments_lexer": "ipython3",
   "version": "3.8.8"
  }
 },
 "nbformat": 4,
 "nbformat_minor": 2
}
